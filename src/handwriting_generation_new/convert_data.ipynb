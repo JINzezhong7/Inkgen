{
 "cells": [
  {
   "cell_type": "code",
   "execution_count": 273,
   "id": "56e3a500-def6-4ef9-a16d-0257a6c68f5f",
   "metadata": {},
   "outputs": [
    {
     "name": "stdout",
     "output_type": "stream",
     "text": [
      "916\n"
     ]
    },
    {
     "data": {
      "text/plain": [
       "((20771, 1200, 3), (20771,), (20771, 75), (20771,))"
      ]
     },
     "execution_count": 273,
     "metadata": {},
     "output_type": "execute_result"
    }
   ],
   "source": [
    "import numpy as np\n",
    "import matplotlib.pyplot as plt\n",
    "from random import shuffle\n",
    "\n",
    "x, x_len = np.load('datasets\\\\data_inkwell_preprocessed\\\\x.npy'), np.load('datasets\\\\data_inkwell_preprocessed\\\\x_len.npy')\n",
    "c, c_len = np.load('datasets\\\\data_inkwell_preprocessed\\\\c.npy'), np.load('datasets\\\\data_inkwell_preprocessed\\\\c_len.npy')\n",
    "x[:, 0, -1] = 0\n",
    "\n",
    "print(x_len.max())\n",
    "x.shape, x_len.shape, c.shape, c_len.shape"
   ]
  },
  {
   "cell_type": "code",
   "execution_count": null,
   "id": "0e792ff1-57d0-4ede-957e-85f70e87daba",
   "metadata": {},
   "outputs": [],
   "source": [
    "train_len = int(x.shape[0] * .95)\n",
    "val_len = x.shape[0] - train_len\n",
    "idxs = np.arange(x.shape[0])\n",
    "shuffle(idxs)\n",
    "\n",
    "train_idxs, valid_idxs = sorted(idxs[:train_len]), sorted(idxs[train_len:])\n",
    "len(np.unique(c[train_idxs]))"
   ]
  },
  {
   "cell_type": "code",
   "execution_count": 279,
   "id": "f7dd9432-9ec0-43f0-a957-0b574b4a560b",
   "metadata": {},
   "outputs": [
    {
     "data": {
      "text/plain": [
       "66"
      ]
     },
     "execution_count": 279,
     "metadata": {},
     "output_type": "execute_result"
    }
   ],
   "source": [
    "#idxs = np.arange(x.shape[0])\n",
    "#train_idxs, valid_idxs = idxs[:15000], idxs[15000:]\n",
    "\n",
    "#shuffle(train_idxs), shuffle(valid_idxs)\n",
    "#train_idxs, valid_idxs = sorted(train_idxs[:9500]), sorted(valid_idxs[:2700])\n",
    "#len(np.unique(c[train_idxs]))"
   ]
  },
  {
   "cell_type": "code",
   "execution_count": 280,
   "id": "6a9aa947-b0e3-4642-8bb6-0c982d485b76",
   "metadata": {},
   "outputs": [
    {
     "name": "stdout",
     "output_type": "stream",
     "text": [
      "(9500, 916, 3) (9500, 915) (9500, 48, 72)\n",
      "(2700, 916, 3) (2700, 915) (2700, 47, 72)\n"
     ]
    }
   ],
   "source": [
    "idxs = train_idxs\n",
    "def create_data_arrays(idxs, setname):\n",
    "    x_tmp = x[idxs, :x_len.max()]\n",
    "    lens = x_len[idxs]\n",
    "    \n",
    "    strokes = np.zeros_like(x_tmp)\n",
    "    strokes[:, :, 0], strokes[:, :, 1:] = x_tmp[:, :, -1], x_tmp[:, :, :-1]\n",
    "        \n",
    "    #all_strokes = np.vstack([strokes[i, :lens[i]] for i in range(len(idxs))])\n",
    "    #mu, std = all_strokes.mean(axis=0), all_strokes.std(axis=0)\n",
    "    #mu[0], std[0] = 0, 1\n",
    "    \n",
    "    #strokes = (strokes - mu) / std\n",
    "    #for i in range(len(strokes)): strokes[i, lens[i]:] = 0\n",
    "\n",
    "    masks = np.zeros((len(idxs), x_len.max()-1))\n",
    "    for i in range(len(masks)): masks[i, :lens[i]-1] = 1\n",
    "    \n",
    "    labels, label_lengths = c[idxs], c_len[idxs]\n",
    "    onehots = np.zeros((len(idxs), max(label_lengths), labels.max()))\n",
    "    for i in range(len(onehots)):\n",
    "        label = (labels[i]-1)[:label_lengths[i]-1]\n",
    "        onehots[i, np.arange(len(label)), label] = 1\n",
    "\n",
    "    assert (np.array([strokes[i][:masks[i].sum().astype(int)+1][-1, 0] for i in range(len(idxs))]) == 1).all()\n",
    "    \n",
    "    print(strokes.shape, masks.shape, onehots.shape)\n",
    "    np.save('datasets\\\\data_inkwell_preprocessed_subset\\\\%s_strokes_700.npy' % setname, strokes)\n",
    "    np.save('datasets\\\\data_inkwell_preprocessed_subset\\\\%s_masks_700.npy' % setname, masks)\n",
    "    np.save('datasets\\\\data_inkwell_preprocessed_subset\\\\%s_onehot_700.npy' % setname, onehots)\n",
    "\n",
    "create_data_arrays(train_idxs, 'train')\n",
    "create_data_arrays(valid_idxs, 'validation')"
   ]
  },
  {
   "cell_type": "code",
   "execution_count": 119,
   "id": "299c39d9-b53c-45b9-87ce-ca6f47cb5aec",
   "metadata": {},
   "outputs": [
    {
     "data": {
      "text/plain": [
       "((9500, 701, 3), (9500, 700), (9500, 64, 82))"
      ]
     },
     "execution_count": 119,
     "metadata": {},
     "output_type": "execute_result"
    }
   ],
   "source": [
    "iam_strokes, iam_masks, iam_one_hots = np.load('datasets\\\\data_iam_normalized\\\\train_strokes_700.npy'), np.load('datasets\\\\data_iam_normalized\\\\train_masks_700.npy'), np.load('datasets\\\\data_iam_normalized\\\\train_onehot_700.npy')\n",
    "iam_strokes.shape, iam_masks.shape, iam_one_hots.shape"
   ]
  },
  {
   "cell_type": "code",
   "execution_count": 135,
   "id": "2a3f1204-0b82-46a4-a5de-9eb5561242c2",
   "metadata": {},
   "outputs": [
    {
     "data": {
      "text/plain": [
       "array([[ 0.        ,  0.        ,  0.        ],\n",
       "       [ 0.        , -0.19509466, -0.00296552],\n",
       "       [ 0.        , -0.21840281,  0.7154464 ],\n",
       "       ...,\n",
       "       [ 0.        ,  0.        ,  0.        ],\n",
       "       [ 0.        ,  0.        ,  0.        ],\n",
       "       [ 0.        ,  0.        ,  0.        ]])"
      ]
     },
     "execution_count": 135,
     "metadata": {},
     "output_type": "execute_result"
    }
   ],
   "source": [
    "iam_strokes[0]"
   ]
  },
  {
   "cell_type": "code",
   "execution_count": 173,
   "id": "8375613f-90d5-48a4-b07f-5073fa763d80",
   "metadata": {},
   "outputs": [
    {
     "data": {
      "text/plain": [
       "array([[ 0.        ,  0.        ,  0.        ],\n",
       "       [ 0.        , -0.19509466, -0.00296552],\n",
       "       [ 0.        , -0.21840281,  0.7154464 ],\n",
       "       ...,\n",
       "       [ 0.        ,  0.01467867,  0.44936791],\n",
       "       [ 0.        , -0.3116354 ,  0.05025018],\n",
       "       [ 1.        , -0.12517022,  0.10346588]])"
      ]
     },
     "execution_count": 173,
     "metadata": {},
     "output_type": "execute_result"
    }
   ],
   "source": [
    "iam_strokes[0][:iam_masks[0].sum().astype(int)+1]"
   ]
  },
  {
   "cell_type": "code",
   "execution_count": 158,
   "id": "f4a67aba-f582-45be-aea6-565cfb824fca",
   "metadata": {},
   "outputs": [
    {
     "data": {
      "text/plain": [
       "array([41, 60, 63, 60, 59, 65, 60,  0,  7,  0, 37, 59, 65, 46, 63, 54, 60,\n",
       "        0, 46, 59, 49], dtype=int8)"
      ]
     },
     "execution_count": 158,
     "metadata": {},
     "output_type": "execute_result"
    }
   ],
   "source": [
    "(c[0]-1)[:c_len[0]-1]"
   ]
  },
  {
   "cell_type": "code",
   "execution_count": 269,
   "id": "e8f30117-38a3-4dcf-bb42-a9451020ea85",
   "metadata": {},
   "outputs": [],
   "source": [
    "import torch\n",
    "\n",
    "alphabet = [\n",
    "    ' ', '!', '\"', '#', \"'\", '(', ')', ',', '-', '.',\n",
    "    '0', '1', '2', '3', '4', '5', '6', '7', '8', '9', ':', ';',\n",
    "    '?', 'A', 'B', 'C', 'D', 'E', 'F', 'G', 'H', 'I', 'J', 'K',\n",
    "    'L', 'M', 'N', 'O', 'P', 'R', 'S', 'T', 'U', 'V', 'W', 'Y',\n",
    "    'a', 'b', 'c', 'd', 'e', 'f', 'g', 'h', 'i', 'j', 'k', 'l',\n",
    "    'm', 'n', 'o', 'p', 'q', 'r', 's', 't', 'u', 'v', 'w', 'x',\n",
    "    'y', 'z'\n",
    "]\n",
    "\n",
    "char_to_code = {c:i for i,c in enumerate(alphabet)}\n",
    "code_to_char = {i:c for c,i in char_to_code.items()}\n",
    "torch.save(char_to_code, 'datasets\\\\data_inkwell_preprocessed\\\\char_to_code.pt')"
   ]
  },
  {
   "cell_type": "code",
   "execution_count": 267,
   "id": "6ac59ff0-fb87-41c8-9405-74c4b60c212f",
   "metadata": {},
   "outputs": [
    {
     "data": {
      "text/plain": [
       "'Toronto , Ontario and'"
      ]
     },
     "execution_count": 267,
     "metadata": {},
     "output_type": "execute_result"
    }
   ],
   "source": [
    "''.join([code_to_char[n] for n in (c[0] - 1)[:c_len[0]-1]])"
   ]
  },
  {
   "cell_type": "code",
   "execution_count": null,
   "id": "85dd0eee-2285-4d93-b5e0-d60695a8ced9",
   "metadata": {},
   "outputs": [],
   "source": []
  }
 ],
 "metadata": {
  "kernelspec": {
   "display_name": "Python 3 (ipykernel)",
   "language": "python",
   "name": "python3"
  },
  "language_info": {
   "codemirror_mode": {
    "name": "ipython",
    "version": 3
   },
   "file_extension": ".py",
   "mimetype": "text/x-python",
   "name": "python",
   "nbconvert_exporter": "python",
   "pygments_lexer": "ipython3",
   "version": "3.9.0"
  }
 },
 "nbformat": 4,
 "nbformat_minor": 5
}
